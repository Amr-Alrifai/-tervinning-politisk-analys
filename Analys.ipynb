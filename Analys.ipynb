{
  "metadata": {
    "kernelspec": {
      "name": "xpython",
      "display_name": "Python 3.13 (XPython)",
      "language": "python"
    },
    "language_info": {
      "file_extension": ".py",
      "mimetype": "text/x-python",
      "name": "python",
      "version": "3.13.1"
    }
  },
  "nbformat_minor": 5,
  "nbformat": 4,
  "cells": [
    {
      "id": "23cb63e8-2877-475f-ba6c-43958bfb8f9b",
      "cell_type": "markdown",
      "source": "# 📊 Analys: Samband mellan återvinning och politisk dominans\nDetta notebook-projekt visar ett möjligt samband mellan återvinning per person och det dominerande politiska partiet i olika stadsdelar.\n\n",
      "metadata": {
        "tags": [],
        "editable": true,
        "slideshow": {
          "slide_type": ""
        }
      }
    },
    {
      "id": "5671e25c-bc18-4868-8af2-d53686669be2",
      "cell_type": "markdown",
      "source": "import pandas as pd\nimport matplotlib.pyplot as plt\nimport seaborn as sns",
      "metadata": {
        "tags": [],
        "editable": true,
        "slideshow": {
          "slide_type": ""
        }
      }
    },
    {
      "id": "f4deccd8-192c-4f5d-9056-1f43501ed84a",
      "cell_type": "markdown",
      "source": "### 🔢 Läs in data",
      "metadata": {
        "tags": [],
        "editable": true,
        "slideshow": {
          "slide_type": ""
        }
      }
    },
    {
      "id": "ec6114f9-5fcb-4aed-b8e9-ae4f1fb7abfb",
      "cell_type": "markdown",
      "source": "df = pd.read_csv(\"recycling_parties.csv\")\ndf\n",
      "metadata": {
        "tags": [],
        "editable": true,
        "slideshow": {
          "slide_type": ""
        }
      }
    },
    {
      "id": "f09ded81-5cb7-48e9-a833-d49635c6fba4",
      "cell_type": "markdown",
      "source": "### 📈 Visualisera återvinning per stadsdel och parti\n",
      "metadata": {
        "tags": [],
        "editable": true,
        "slideshow": {
          "slide_type": ""
        }
      }
    },
    {
      "id": "94bfaf05-88f7-49b8-a0da-f11073fc0cba",
      "cell_type": "markdown",
      "source": "plt.figure(figsize=(10, 6))\nsns.barplot(x=\"Stadsdel\", y=\"Återvinning_kg_per_person\", hue=\"Dominerande_parti\", data=df)\nplt.title(\"Återvinning per stadsdel och politisk dominans\")\nplt.ylabel(\"Återvinning (kg per person)\")\nplt.xlabel(\"Stadsdel\")\nplt.xticks(rotation=45)\nplt.legend(title=\"Dominerande parti\")\nplt.tight_layout()\nplt.show()\n",
      "metadata": {
        "tags": [],
        "editable": true,
        "slideshow": {
          "slide_type": ""
        }
      }
    },
    {
      "id": "29690c39-c3b5-4c5f-91d8-49645a1a67e7",
      "cell_type": "markdown",
      "source": "### 📊 Genomsnittlig återvinning per parti\n",
      "metadata": {
        "tags": [],
        "editable": true,
        "slideshow": {
          "slide_type": ""
        }
      }
    },
    {
      "id": "914d1c3b-eee7-4759-8bf4-6ff03de6c6c2",
      "cell_type": "markdown",
      "source": "df.groupby(\"Dominerande_parti\")[\"Återvinning_kg_per_person\"].mean().sort_values(ascending=False)\n",
      "metadata": {
        "tags": [],
        "editable": true,
        "slideshow": {
          "slide_type": ""
        }
      }
    },
    {
      "id": "163f078f-07c5-411c-9da5-a3ae74c16b54",
      "cell_type": "markdown",
      "source": "",
      "metadata": {
        "tags": [],
        "editable": true,
        "slideshow": {
          "slide_type": ""
        }
      }
    },
    {
      "id": "fcadab87-de91-46c1-9c41-4c9b60221517",
      "cell_type": "code",
      "source": "",
      "metadata": {
        "trusted": true,
        "tags": [],
        "editable": true,
        "slideshow": {
          "slide_type": ""
        }
      },
      "outputs": [],
      "execution_count": null
    },
    {
      "id": "2d8fadd3-ab3d-4fc6-8d7f-33bb3edacb7d",
      "cell_type": "code",
      "source": "",
      "metadata": {
        "trusted": true,
        "tags": [],
        "editable": true,
        "slideshow": {
          "slide_type": ""
        }
      },
      "outputs": [],
      "execution_count": null
    }
  ]
}